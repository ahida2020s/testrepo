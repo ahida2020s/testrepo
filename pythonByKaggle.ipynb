{
 "cells": [
  {
   "cell_type": "code",
   "execution_count": 1,
   "id": "0e67e04e-de9b-4cc1-8964-5320e72f8982",
   "metadata": {},
   "outputs": [
    {
     "data": {
      "text/plain": [
       "679"
      ]
     },
     "execution_count": 1,
     "metadata": {},
     "output_type": "execute_result"
    }
   ],
   "source": [
    "round(678.89, ndigits=None)"
   ]
  },
  {
   "cell_type": "code",
   "execution_count": 2,
   "id": "12c60a3a-060b-4c79-a5bc-a0e9fe5e4a54",
   "metadata": {},
   "outputs": [
    {
     "data": {
      "text/plain": [
       "34567.23"
      ]
     },
     "execution_count": 2,
     "metadata": {},
     "output_type": "execute_result"
    }
   ],
   "source": [
    "round(34567.2345678, ndigits=2)"
   ]
  },
  {
   "cell_type": "code",
   "execution_count": 3,
   "id": "90af310c-a5b9-496d-a7c9-432d9f447816",
   "metadata": {},
   "outputs": [
    {
     "name": "stdout",
     "output_type": "stream",
     "text": [
      "Help on built-in function round in module builtins:\n",
      "\n",
      "round(number, ndigits=None)\n",
      "    Round a number to a given precision in decimal digits.\n",
      "    \n",
      "    The return value is an integer if ndigits is omitted or None.  Otherwise\n",
      "    the return value has the same type as the number.  ndigits may be negative.\n",
      "\n"
     ]
    }
   ],
   "source": [
    "help(round)"
   ]
  },
  {
   "cell_type": "code",
   "execution_count": 4,
   "id": "5222d518-bd64-4014-a3d1-18aef7f9a28b",
   "metadata": {},
   "outputs": [
    {
     "name": "stdout",
     "output_type": "stream",
     "text": [
      "Help on built-in function abs in module builtins:\n",
      "\n",
      "abs(x, /)\n",
      "    Return the absolute value of the argument.\n",
      "\n"
     ]
    }
   ],
   "source": [
    "help(abs)"
   ]
  },
  {
   "cell_type": "code",
   "execution_count": 5,
   "id": "b8fceee0-2551-4052-9ecf-fbd4a9d6d386",
   "metadata": {},
   "outputs": [
    {
     "name": "stdout",
     "output_type": "stream",
     "text": [
      "apple banana cherry\n"
     ]
    }
   ],
   "source": [
    "print(\"apple\", \"banana\", \"cherry\")\n"
   ]
  },
  {
   "cell_type": "code",
   "execution_count": 6,
   "id": "da2f348f-35e4-4595-99ed-93ac5406809e",
   "metadata": {},
   "outputs": [
    {
     "name": "stdout",
     "output_type": "stream",
     "text": [
      "apple, banana, cherry\n"
     ]
    }
   ],
   "source": [
    "print(\"apple\", \"banana\", \"cherry\", sep=\", \")\n"
   ]
  },
  {
   "cell_type": "code",
   "execution_count": 10,
   "id": "e04206b1-9a7f-4953-95b5-592c5fb3e77f",
   "metadata": {},
   "outputs": [
    {
     "name": "stdout",
     "output_type": "stream",
     "text": [
      "Hello, world!\n"
     ]
    }
   ],
   "source": [
    "print(\"Hello, world!\", flush=True)\n"
   ]
  },
  {
   "cell_type": "code",
   "execution_count": 3,
   "id": "774abe53-e3c7-4db1-a2b6-dfebecf3e760",
   "metadata": {},
   "outputs": [],
   "source": [
    "def least_difference(a, b, c):\n",
    "    diff1 = abs(a - b)\n",
    "    diff2 = abs(b - c)\n",
    "    diff3 = abs(a - c)\n",
    "    return min(diff1, diff2, diff3)"
   ]
  },
  {
   "cell_type": "code",
   "execution_count": 6,
   "id": "13d74f81-0e63-48fa-95ff-40e0602c2db9",
   "metadata": {},
   "outputs": [
    {
     "name": "stdout",
     "output_type": "stream",
     "text": [
      "9 0 1\n"
     ]
    }
   ],
   "source": [
    "print(\n",
    "    least_difference(1, 10, 100),\n",
    "    least_difference(1, 10, 10),\n",
    "    least_difference(5, 6, 7), # Python allows trailing commas in argument lists. How nice is that?\n",
    ")"
   ]
  },
  {
   "cell_type": "code",
   "execution_count": 7,
   "id": "8b25cdf7-988a-4ae2-bdda-8be59e0bce12",
   "metadata": {},
   "outputs": [
    {
     "name": "stdout",
     "output_type": "stream",
     "text": [
      "Help on function least_difference in module __main__:\n",
      "\n",
      "least_difference(a, b, c)\n",
      "\n"
     ]
    }
   ],
   "source": [
    "help(least_difference)"
   ]
  },
  {
   "cell_type": "code",
   "execution_count": 14,
   "id": "82458c3f-1a36-4155-b876-d18b2ceeb2a2",
   "metadata": {},
   "outputs": [],
   "source": [
    "def mod_5(x):\n",
    "    \"\"\"Return the remainder of x after dividing by 5\"\"\"\n",
    "    return x % 5\n"
   ]
  },
  {
   "cell_type": "code",
   "execution_count": 20,
   "id": "6dcb3d81-ba93-42c0-baab-887cf09aa069",
   "metadata": {},
   "outputs": [
    {
     "name": "stdout",
     "output_type": "stream",
     "text": [
      "100\n",
      "14\n"
     ]
    }
   ],
   "source": [
    "print(\n",
    "    max(100, 51, 14),\n",
    "    max(100, 51, 14,key=mod_5),\n",
    "    sep='\\n',\n",
    ")\n"
   ]
  },
  {
   "cell_type": "code",
   "execution_count": 22,
   "id": "2ddd661d-1734-489e-a931-60a61e3ddb95",
   "metadata": {},
   "outputs": [
    {
     "name": "stdout",
     "output_type": "stream",
     "text": [
      "5\n",
      "25\n"
     ]
    }
   ],
   "source": [
    "def mult_by_five(x):\n",
    "    return 5 * x\n",
    "\n",
    "def call(fn, arg):\n",
    "    \"\"\"Call fn on arg\"\"\"\n",
    "    return fn(arg)\n",
    "\n",
    "def squared_call(fn, arg):\n",
    "    \"\"\"Call fn on the result of calling fn on arg\"\"\"\n",
    "    return fn(fn(arg))\n",
    "\n",
    "print(\n",
    "    call(mult_by_five, 1),\n",
    "    squared_call(mult_by_five, 1), \n",
    "    sep='\\n', # '\\n' is the newline character - it starts a new line\n",
    ")"
   ]
  },
  {
   "cell_type": "code",
   "execution_count": 23,
   "id": "366538e1-5d16-44b9-b6de-db61a56625f1",
   "metadata": {},
   "outputs": [
    {
     "data": {
      "text/plain": [
       "343460.0"
      ]
     },
     "execution_count": 23,
     "metadata": {},
     "output_type": "execute_result"
    }
   ],
   "source": [
    "round(343456.445678,-1)"
   ]
  },
  {
   "cell_type": "code",
   "execution_count": 24,
   "id": "8bbcd847-cbdc-4799-bb77-58ec80b0e737",
   "metadata": {},
   "outputs": [
    {
     "data": {
      "text/plain": [
       "'ndigits=-1 rounds to the nearest 10, ndigits=-2 rounds to the nearest 100 and so on.'"
      ]
     },
     "execution_count": 24,
     "metadata": {},
     "output_type": "execute_result"
    }
   ],
   "source": [
    "'''ndigits=-1 rounds to the nearest 10, ndigits=-2 rounds to the nearest 100 and so on.''' "
   ]
  },
  {
   "cell_type": "code",
   "execution_count": 1,
   "id": "757b5b67-84e1-4237-91f9-f4f0304630fa",
   "metadata": {},
   "outputs": [],
   "source": [
    "\n",
    "hands = [\n",
    "    ['J', 'Q', 'K'],\n",
    "    ['2', '2', '2'],\n",
    "    ['6', 'A', 'K'], # (Comma after the last element is optional)\n",
    "]"
   ]
  },
  {
   "cell_type": "code",
   "execution_count": 2,
   "id": "02129645-ed14-4aba-b3f7-a49adc74d947",
   "metadata": {},
   "outputs": [
    {
     "data": {
      "text/plain": [
       "[['J', 'Q', 'K'], ['2', '2', '2'], ['6', 'A', 'K']]"
      ]
     },
     "execution_count": 2,
     "metadata": {},
     "output_type": "execute_result"
    }
   ],
   "source": [
    "hands"
   ]
  },
  {
   "cell_type": "code",
   "execution_count": 4,
   "id": "27dc0c12-db7d-4879-8a29-2d17be836308",
   "metadata": {},
   "outputs": [
    {
     "data": {
      "text/plain": [
       "[32,\n",
       " 'raindrops on roses',\n",
       " Type help() for interactive help, or help(object) for help about object.]"
      ]
     },
     "execution_count": 4,
     "metadata": {},
     "output_type": "execute_result"
    }
   ],
   "source": [
    "my_favourite_things = [32, 'raindrops on roses', help]\n",
    "my_favourite_things\n"
   ]
  },
  {
   "cell_type": "code",
   "execution_count": 5,
   "id": "84b6ce94-4d3e-4bd4-97e8-3b37be870a8c",
   "metadata": {},
   "outputs": [
    {
     "name": "stdout",
     "output_type": "stream",
     "text": [
      "0\n"
     ]
    }
   ],
   "source": [
    "x = 12\n",
    "# x is a real number, so its imaginary part is 0.\n",
    "print(x.imag)"
   ]
  },
  {
   "cell_type": "code",
   "execution_count": 9,
   "id": "4018e3eb-f853-4245-8f86-cc7c5c57543e",
   "metadata": {},
   "outputs": [
    {
     "name": "stdout",
     "output_type": "stream",
     "text": [
      "3.0\n",
      "12.0\n",
      "(12+3j)\n"
     ]
    }
   ],
   "source": [
    "c = 12 + 3j\n",
    "print(c.imag)\n",
    "print(c.real)\n",
    "print(c)"
   ]
  },
  {
   "cell_type": "markdown",
   "id": "58262f8e-b70c-4df7-bb72-a1ac58689a89",
   "metadata": {},
   "source": [
    "###  A function attached to an object is called a method. (Non-function things attached to an object, such as imag, are called attributes)."
   ]
  },
  {
   "cell_type": "code",
   "execution_count": 10,
   "id": "886926c6-66b4-40d7-b4fb-0f153f399b05",
   "metadata": {},
   "outputs": [
    {
     "data": {
      "text/plain": [
       "4"
      ]
     },
     "execution_count": 10,
     "metadata": {},
     "output_type": "execute_result"
    }
   ],
   "source": [
    "x=12\n",
    "x.bit_length()"
   ]
  },
  {
   "cell_type": "code",
   "execution_count": 17,
   "id": "0c2d5cc6-025b-468d-bfbe-92a205776d76",
   "metadata": {},
   "outputs": [],
   "source": [
    "planets = ['Mercury', 'Venus', 'Earth', 'Mars', 'Jupiter', 'Saturn', 'Uranus', 'Neptune']"
   ]
  },
  {
   "cell_type": "code",
   "execution_count": 15,
   "id": "49a17728-7b17-4e1c-876e-9ddb2ddf9fdf",
   "metadata": {},
   "outputs": [],
   "source": [
    "planets.append('Pluto')"
   ]
  },
  {
   "cell_type": "code",
   "execution_count": 14,
   "id": "b9f96d51-c795-4674-8680-9fbe2adb5043",
   "metadata": {},
   "outputs": [
    {
     "name": "stdout",
     "output_type": "stream",
     "text": [
      "Help on built-in function append:\n",
      "\n",
      "append(object, /) method of builtins.list instance\n",
      "    Append object to the end of the list.\n",
      "\n"
     ]
    }
   ],
   "source": [
    "\n",
    "help(planets.append)"
   ]
  },
  {
   "cell_type": "code",
   "execution_count": 16,
   "id": "4e71700e-1646-4510-9e0a-f6977d4a5277",
   "metadata": {},
   "outputs": [
    {
     "data": {
      "text/plain": [
       "['Mercury',\n",
       " 'Venus',\n",
       " 'Earth',\n",
       " 'Mars',\n",
       " 'Jupiter',\n",
       " 'Saturn',\n",
       " 'Uranus',\n",
       " 'Neptune',\n",
       " 'Pluto']"
      ]
     },
     "execution_count": 16,
     "metadata": {},
     "output_type": "execute_result"
    }
   ],
   "source": [
    "planets"
   ]
  },
  {
   "cell_type": "code",
   "execution_count": 18,
   "id": "605463f7-4e58-482e-b346-e21526fc0b53",
   "metadata": {},
   "outputs": [],
   "source": [
    "num=[1,2,3,45,6,8,90,678]"
   ]
  },
  {
   "cell_type": "code",
   "execution_count": 19,
   "id": "94a5ee1b-9547-4c2a-a0b3-e65cfb52b467",
   "metadata": {},
   "outputs": [
    {
     "data": {
      "text/plain": [
       "[1, 2, 3, 45, 6, 8, 90, 678]"
      ]
     },
     "execution_count": 19,
     "metadata": {},
     "output_type": "execute_result"
    }
   ],
   "source": [
    "num"
   ]
  },
  {
   "cell_type": "code",
   "execution_count": 20,
   "id": "e012c54f-6c69-46e0-8b85-c23f43ebe6d0",
   "metadata": {},
   "outputs": [
    {
     "data": {
      "text/plain": [
       "2"
      ]
     },
     "execution_count": 20,
     "metadata": {},
     "output_type": "execute_result"
    }
   ],
   "source": [
    "planets.index('Earth')"
   ]
  },
  {
   "cell_type": "code",
   "execution_count": 21,
   "id": "bec71bab-82bc-45a0-9422-be1a2face226",
   "metadata": {},
   "outputs": [
    {
     "data": {
      "text/plain": [
       "False"
      ]
     },
     "execution_count": 21,
     "metadata": {},
     "output_type": "execute_result"
    }
   ],
   "source": [
    "\"Calbefraques\" in planets"
   ]
  },
  {
   "cell_type": "code",
   "execution_count": 22,
   "id": "24138e33-13f0-4617-b8bc-a3a26083a823",
   "metadata": {},
   "outputs": [
    {
     "name": "stdout",
     "output_type": "stream",
     "text": [
      "Help on list object:\n",
      "\n",
      "class list(object)\n",
      " |  list(iterable=(), /)\n",
      " |  \n",
      " |  Built-in mutable sequence.\n",
      " |  \n",
      " |  If no argument is given, the constructor creates a new empty list.\n",
      " |  The argument must be an iterable if specified.\n",
      " |  \n",
      " |  Methods defined here:\n",
      " |  \n",
      " |  __add__(self, value, /)\n",
      " |      Return self+value.\n",
      " |  \n",
      " |  __contains__(self, key, /)\n",
      " |      Return key in self.\n",
      " |  \n",
      " |  __delitem__(self, key, /)\n",
      " |      Delete self[key].\n",
      " |  \n",
      " |  __eq__(self, value, /)\n",
      " |      Return self==value.\n",
      " |  \n",
      " |  __ge__(self, value, /)\n",
      " |      Return self>=value.\n",
      " |  \n",
      " |  __getattribute__(self, name, /)\n",
      " |      Return getattr(self, name).\n",
      " |  \n",
      " |  __getitem__(...)\n",
      " |      x.__getitem__(y) <==> x[y]\n",
      " |  \n",
      " |  __gt__(self, value, /)\n",
      " |      Return self>value.\n",
      " |  \n",
      " |  __iadd__(self, value, /)\n",
      " |      Implement self+=value.\n",
      " |  \n",
      " |  __imul__(self, value, /)\n",
      " |      Implement self*=value.\n",
      " |  \n",
      " |  __init__(self, /, *args, **kwargs)\n",
      " |      Initialize self.  See help(type(self)) for accurate signature.\n",
      " |  \n",
      " |  __iter__(self, /)\n",
      " |      Implement iter(self).\n",
      " |  \n",
      " |  __le__(self, value, /)\n",
      " |      Return self<=value.\n",
      " |  \n",
      " |  __len__(self, /)\n",
      " |      Return len(self).\n",
      " |  \n",
      " |  __lt__(self, value, /)\n",
      " |      Return self<value.\n",
      " |  \n",
      " |  __mul__(self, value, /)\n",
      " |      Return self*value.\n",
      " |  \n",
      " |  __ne__(self, value, /)\n",
      " |      Return self!=value.\n",
      " |  \n",
      " |  __repr__(self, /)\n",
      " |      Return repr(self).\n",
      " |  \n",
      " |  __reversed__(self, /)\n",
      " |      Return a reverse iterator over the list.\n",
      " |  \n",
      " |  __rmul__(self, value, /)\n",
      " |      Return value*self.\n",
      " |  \n",
      " |  __setitem__(self, key, value, /)\n",
      " |      Set self[key] to value.\n",
      " |  \n",
      " |  __sizeof__(self, /)\n",
      " |      Return the size of the list in memory, in bytes.\n",
      " |  \n",
      " |  append(self, object, /)\n",
      " |      Append object to the end of the list.\n",
      " |  \n",
      " |  clear(self, /)\n",
      " |      Remove all items from list.\n",
      " |  \n",
      " |  copy(self, /)\n",
      " |      Return a shallow copy of the list.\n",
      " |  \n",
      " |  count(self, value, /)\n",
      " |      Return number of occurrences of value.\n",
      " |  \n",
      " |  extend(self, iterable, /)\n",
      " |      Extend list by appending elements from the iterable.\n",
      " |  \n",
      " |  index(self, value, start=0, stop=9223372036854775807, /)\n",
      " |      Return first index of value.\n",
      " |      \n",
      " |      Raises ValueError if the value is not present.\n",
      " |  \n",
      " |  insert(self, index, object, /)\n",
      " |      Insert object before index.\n",
      " |  \n",
      " |  pop(self, index=-1, /)\n",
      " |      Remove and return item at index (default last).\n",
      " |      \n",
      " |      Raises IndexError if list is empty or index is out of range.\n",
      " |  \n",
      " |  remove(self, value, /)\n",
      " |      Remove first occurrence of value.\n",
      " |      \n",
      " |      Raises ValueError if the value is not present.\n",
      " |  \n",
      " |  reverse(self, /)\n",
      " |      Reverse *IN PLACE*.\n",
      " |  \n",
      " |  sort(self, /, *, key=None, reverse=False)\n",
      " |      Sort the list in ascending order and return None.\n",
      " |      \n",
      " |      The sort is in-place (i.e. the list itself is modified) and stable (i.e. the\n",
      " |      order of two equal elements is maintained).\n",
      " |      \n",
      " |      If a key function is given, apply it once to each list item and sort them,\n",
      " |      ascending or descending, according to their function values.\n",
      " |      \n",
      " |      The reverse flag can be set to sort in descending order.\n",
      " |  \n",
      " |  ----------------------------------------------------------------------\n",
      " |  Class methods defined here:\n",
      " |  \n",
      " |  __class_getitem__(...) from builtins.type\n",
      " |      See PEP 585\n",
      " |  \n",
      " |  ----------------------------------------------------------------------\n",
      " |  Static methods defined here:\n",
      " |  \n",
      " |  __new__(*args, **kwargs) from builtins.type\n",
      " |      Create and return a new object.  See help(type) for accurate signature.\n",
      " |  \n",
      " |  ----------------------------------------------------------------------\n",
      " |  Data and other attributes defined here:\n",
      " |  \n",
      " |  __hash__ = None\n",
      "\n"
     ]
    }
   ],
   "source": [
    "help(planets)"
   ]
  },
  {
   "cell_type": "code",
   "execution_count": 23,
   "id": "95fd4250-3eec-4326-8242-41df4ebb4475",
   "metadata": {},
   "outputs": [
    {
     "data": {
      "text/plain": [
       "(1, 2, 3)"
      ]
     },
     "execution_count": 23,
     "metadata": {},
     "output_type": "execute_result"
    }
   ],
   "source": [
    "t=1,2,3\n",
    "t"
   ]
  },
  {
   "cell_type": "markdown",
   "id": "e6e32f8e-ac77-482c-92c3-acb3def5eba9",
   "metadata": {},
   "source": [
    "Tuples are often used for functions that have multiple return values.\n",
    "\n",
    "For example, the as_integer_ratio() method of float objects returns a numerator and a denominator in the form of a tuple:"
   ]
  },
  {
   "cell_type": "code",
   "execution_count": 31,
   "id": "00fbc1ef-ba70-4276-b995-007c1c2e255a",
   "metadata": {},
   "outputs": [
    {
     "data": {
      "text/plain": [
       "(1, 8)"
      ]
     },
     "execution_count": 31,
     "metadata": {},
     "output_type": "execute_result"
    }
   ],
   "source": [
    "x = 0.125\n",
    "x.as_integer_ratio()"
   ]
  },
  {
   "cell_type": "code",
   "execution_count": 32,
   "id": "213c3641-0182-4855-9bb1-691303a50e2b",
   "metadata": {},
   "outputs": [
    {
     "name": "stdout",
     "output_type": "stream",
     "text": [
      "0.125\n"
     ]
    }
   ],
   "source": [
    "numerator, denominator = x.as_integer_ratio()\n",
    "print(numerator / denominator)"
   ]
  },
  {
   "cell_type": "markdown",
   "id": "1288f42f-ee94-4a96-9aae-6b4e4800afd8",
   "metadata": {},
   "source": [
    "###  classic Stupid Python Trick™ for swapping two variables!"
   ]
  },
  {
   "cell_type": "code",
   "execution_count": 33,
   "id": "12fbe350-fe18-472d-b9b0-89f33b26ef81",
   "metadata": {},
   "outputs": [
    {
     "name": "stdout",
     "output_type": "stream",
     "text": [
      "0 1\n"
     ]
    }
   ],
   "source": [
    "a = 1\n",
    "b = 0\n",
    "a, b = b, a\n",
    "print(a, b)"
   ]
  },
  {
   "cell_type": "code",
   "execution_count": 34,
   "id": "85a3d6eb-facd-4783-a68e-097a0ca14afd",
   "metadata": {},
   "outputs": [],
   "source": [
    "a = [1, 2, 3]\n",
    "b = [1, [2, 3]]\n",
    "c = []\n",
    "d = [1, 2, 3][1:]"
   ]
  },
  {
   "cell_type": "code",
   "execution_count": 35,
   "id": "6c20efa4-5f91-4df6-82ca-4b9a89f1e8e4",
   "metadata": {},
   "outputs": [],
   "source": [
    "lengths = [len(a),len(b),len(c),len(d)]"
   ]
  },
  {
   "cell_type": "code",
   "execution_count": 36,
   "id": "a3278902-d99b-441d-9cfc-241f317cd9b6",
   "metadata": {},
   "outputs": [
    {
     "data": {
      "text/plain": [
       "[3, 2, 0, 2]"
      ]
     },
     "execution_count": 36,
     "metadata": {},
     "output_type": "execute_result"
    }
   ],
   "source": [
    "lengths"
   ]
  },
  {
   "cell_type": "code",
   "execution_count": null,
   "id": "bf721613-f9c2-44aa-b535-caadc94a72a7",
   "metadata": {},
   "outputs": [],
   "source": []
  },
  {
   "cell_type": "code",
   "execution_count": null,
   "id": "efdd4857-692b-49e6-9057-3f59c81e2433",
   "metadata": {},
   "outputs": [],
   "source": []
  },
  {
   "cell_type": "code",
   "execution_count": 3,
   "id": "f1ed2273-d206-47b9-a75b-9ce1b53e8828",
   "metadata": {},
   "outputs": [
    {
     "name": "stdout",
     "output_type": "stream",
     "text": [
      "hello\n",
      "world\n"
     ]
    }
   ],
   "source": [
    "hello=\"\"\"hello\n",
    "world\"\"\"\n",
    "print(hello)"
   ]
  },
  {
   "cell_type": "code",
   "execution_count": 4,
   "id": "3770c84a-a08e-491f-88e7-cb40fd9c7e1c",
   "metadata": {},
   "outputs": [
    {
     "name": "stdout",
     "output_type": "stream",
     "text": [
      "hello\n",
      "world\n"
     ]
    },
    {
     "data": {
      "text/plain": [
       "True"
      ]
     },
     "execution_count": 4,
     "metadata": {},
     "output_type": "execute_result"
    }
   ],
   "source": [
    "triplequoted_hello = \"\"\"hello\n",
    "world\"\"\"\n",
    "print(triplequoted_hello)\n",
    "\n",
    "\n",
    "triplequoted_hello == hello"
   ]
  },
  {
   "cell_type": "code",
   "execution_count": 6,
   "id": "36c37b6b-f29c-49fc-971c-33c70c38a79c",
   "metadata": {},
   "outputs": [
    {
     "name": "stdout",
     "output_type": "stream",
     "text": [
      "hello\n",
      "world\n",
      "hello   pluto"
     ]
    }
   ],
   "source": [
    "print(\"hello\")\n",
    "print(\"world\")\n",
    "print(\"hello\", end='   ')\n",
    "print(\"pluto\", end='')"
   ]
  },
  {
   "cell_type": "code",
   "execution_count": 11,
   "id": "eef46ded-ab2f-469b-826a-734daecc9e10",
   "metadata": {},
   "outputs": [
    {
     "ename": "TypeError",
     "evalue": "Random.randint() takes 3 positional arguments but 4 were given",
     "output_type": "error",
     "traceback": [
      "\u001b[1;31m---------------------------------------------------------------------------\u001b[0m",
      "\u001b[1;31mTypeError\u001b[0m                                 Traceback (most recent call last)",
      "Cell \u001b[1;32mIn[11], line 3\u001b[0m\n\u001b[0;32m      1\u001b[0m \u001b[38;5;28;01mimport\u001b[39;00m \u001b[38;5;21;01mrandom\u001b[39;00m\n\u001b[1;32m----> 3\u001b[0m \u001b[38;5;28mprint\u001b[39m(\u001b[43mrandom\u001b[49m\u001b[38;5;241;43m.\u001b[39;49m\u001b[43mrandint\u001b[49m\u001b[43m(\u001b[49m\u001b[38;5;241;43m1\u001b[39;49m\u001b[43m,\u001b[49m\u001b[43m \u001b[49m\u001b[38;5;241;43m10\u001b[39;49m\u001b[43m,\u001b[49m\u001b[43m \u001b[49m\u001b[38;5;241;43m5\u001b[39;49m\u001b[43m)\u001b[49m)\n",
      "\u001b[1;31mTypeError\u001b[0m: Random.randint() takes 3 positional arguments but 4 were given"
     ]
    }
   ],
   "source": [
    "import random\n",
    "\n",
    "print(random.randint(1, 10, 5))  # Gives a random number between 1 and 10, including both\n"
   ]
  },
  {
   "cell_type": "code",
   "execution_count": 14,
   "id": "44d51a22-c588-429b-911b-603fb49b4a94",
   "metadata": {},
   "outputs": [
    {
     "name": "stdout",
     "output_type": "stream",
     "text": [
      "[8 8 1 8 5]\n"
     ]
    }
   ],
   "source": [
    "import numpy as np\n",
    "\n",
    "print(np.random.randint(1, 10,5))  # Gives a random number from 1 to 9 (10 is excluded)\n"
   ]
  },
  {
   "cell_type": "code",
   "execution_count": 15,
   "id": "5f983f1a-79e6-47f0-94ac-a88182ea2704",
   "metadata": {},
   "outputs": [
    {
     "data": {
      "text/plain": [
       "array([4, 5, 8, 4, 6], dtype=int32)"
      ]
     },
     "execution_count": 15,
     "metadata": {},
     "output_type": "execute_result"
    }
   ],
   "source": [
    "np.random.randint(1, 10,5)"
   ]
  },
  {
   "cell_type": "code",
   "execution_count": 22,
   "id": "ade58bb5-cab8-4308-bf01-eb97a08f7058",
   "metadata": {},
   "outputs": [
    {
     "data": {
      "text/plain": [
       "'PLUTO IS A PLANET!'"
      ]
     },
     "execution_count": 22,
     "metadata": {},
     "output_type": "execute_result"
    }
   ],
   "source": [
    "claim = \"Pluto is a planet!\"\n",
    "claim.upper()"
   ]
  },
  {
   "cell_type": "code",
   "execution_count": 20,
   "id": "f3d7e44a-ff77-49d6-aa50-f1e614bd926a",
   "metadata": {},
   "outputs": [
    {
     "data": {
      "text/plain": [
       "11"
      ]
     },
     "execution_count": 20,
     "metadata": {},
     "output_type": "execute_result"
    }
   ],
   "source": [
    "claim.index('p')"
   ]
  },
  {
   "cell_type": "code",
   "execution_count": 27,
   "id": "b1a14eb1-16af-454f-87c0-45253b28db54",
   "metadata": {},
   "outputs": [
    {
     "data": {
      "text/plain": [
       "False"
      ]
     },
     "execution_count": 27,
     "metadata": {},
     "output_type": "execute_result"
    }
   ],
   "source": [
    "claim.startswith(\"P\")"
   ]
  },
  {
   "cell_type": "code",
   "execution_count": 30,
   "id": "3221f321-ad90-429c-87fb-df57d8337e11",
   "metadata": {},
   "outputs": [
    {
     "data": {
      "text/plain": [
       "True"
      ]
     },
     "execution_count": 30,
     "metadata": {},
     "output_type": "execute_result"
    }
   ],
   "source": [
    "claim.endswith(\"planet!\")"
   ]
  },
  {
   "cell_type": "code",
   "execution_count": 37,
   "id": "e44d39d6-b60f-4835-8877-d2fec33f5129",
   "metadata": {},
   "outputs": [
    {
     "data": {
      "text/plain": [
       "('1956', '01', '31')"
      ]
     },
     "execution_count": 37,
     "metadata": {},
     "output_type": "execute_result"
    }
   ],
   "source": [
    "datestr = '1956-01-31'\n",
    "year, month, day = datestr.split('-')\n",
    "year, month , day"
   ]
  },
  {
   "cell_type": "code",
   "execution_count": 38,
   "id": "bf1eeffd-0aec-4f83-8543-dd35b283d633",
   "metadata": {},
   "outputs": [
    {
     "data": {
      "text/plain": [
       "'01/31/1956'"
      ]
     },
     "execution_count": 38,
     "metadata": {},
     "output_type": "execute_result"
    }
   ],
   "source": [
    "'/'.join([month, day, year])"
   ]
  },
  {
   "cell_type": "code",
   "execution_count": 39,
   "id": "a8aa7ac5-8541-4d80-848e-3018df7c6cc3",
   "metadata": {},
   "outputs": [
    {
     "data": {
      "text/plain": [
       "'1956-01-31'"
      ]
     },
     "execution_count": 39,
     "metadata": {},
     "output_type": "execute_result"
    }
   ],
   "source": [
    "datestr"
   ]
  },
  {
   "cell_type": "code",
   "execution_count": 49,
   "id": "a56c9835-f6d2-4ac0-88c4-5481c9c68684",
   "metadata": {},
   "outputs": [
    {
     "data": {
      "text/plain": [
       "\"pluto weighs about 1.3e+22 kilograms (0.222% of Earth's mass). It is home to 52,910,390 Plutonians.\""
      ]
     },
     "execution_count": 49,
     "metadata": {},
     "output_type": "execute_result"
    }
   ],
   "source": [
    "\n",
    "\n",
    "planet=\"pluto\"\n",
    "pluto_mass = 1.323 * 10**22\n",
    "earth_mass = 5.9722 * 10**24\n",
    "population = 52910390\n",
    "#         2 decimal points   3 decimal points, format as percent     separate with commas\n",
    "\"{} weighs about {:.2} kilograms ({:.3%} of Earth's mass). It is home to {:,} Plutonians.\".format(\n",
    "    planet, pluto_mass, pluto_mass / earth_mass, population,\n",
    ")"
   ]
  },
  {
   "cell_type": "code",
   "execution_count": 50,
   "id": "ef81163c-e8d5-4cde-aa95-b632dab2c145",
   "metadata": {},
   "outputs": [
    {
     "data": {
      "text/plain": [
       "1"
      ]
     },
     "execution_count": 50,
     "metadata": {},
     "output_type": "execute_result"
    }
   ],
   "source": [
    "e = '\\n'\n",
    "length = len(e)\n",
    "length"
   ]
  },
  {
   "cell_type": "code",
   "execution_count": 51,
   "id": "d80e4fa0-c013-4be9-bd0a-a9ac75769fa5",
   "metadata": {},
   "outputs": [
    {
     "name": "stdout",
     "output_type": "stream",
     "text": [
      "['__doc__', '__loader__', '__name__', '__package__', '__spec__', 'acos', 'acosh', 'asin', 'asinh', 'atan', 'atan2', 'atanh', 'ceil', 'comb', 'copysign', 'cos', 'cosh', 'degrees', 'dist', 'e', 'erf', 'erfc', 'exp', 'expm1', 'fabs', 'factorial', 'floor', 'fmod', 'frexp', 'fsum', 'gamma', 'gcd', 'hypot', 'inf', 'isclose', 'isfinite', 'isinf', 'isnan', 'isqrt', 'lcm', 'ldexp', 'lgamma', 'log', 'log10', 'log1p', 'log2', 'modf', 'nan', 'nextafter', 'perm', 'pi', 'pow', 'prod', 'radians', 'remainder', 'sin', 'sinh', 'sqrt', 'tan', 'tanh', 'tau', 'trunc', 'ulp']\n"
     ]
    }
   ],
   "source": [
    "import math\n",
    "print(dir(math))"
   ]
  },
  {
   "cell_type": "code",
   "execution_count": 53,
   "id": "8b2c377c-2ebc-47c5-9992-5cc83487b5ae",
   "metadata": {},
   "outputs": [
    {
     "name": "stdout",
     "output_type": "stream",
     "text": [
      "xlist = [[1, 2, 3], [2, 4, 6]]\n",
      "x =\n",
      "[[1 2 3]\n",
      " [2 4 6]]\n"
     ]
    }
   ],
   "source": [
    "\n",
    "import numpy\n",
    "\n",
    "xlist = [[1,2,3],[2,4,6],]\n",
    "# Create a 2-dimensional array\n",
    "x = numpy.asarray(xlist)\n",
    "print(\"xlist = {}\\nx =\\n{}\".format(xlist, x))"
   ]
  },
  {
   "cell_type": "code",
   "execution_count": null,
   "id": "b4631be0-ec43-41dc-a570-56733fd66f81",
   "metadata": {},
   "outputs": [],
   "source": []
  }
 ],
 "metadata": {
  "kernelspec": {
   "display_name": "Python 3 (ipykernel)",
   "language": "python",
   "name": "python3"
  },
  "language_info": {
   "codemirror_mode": {
    "name": "ipython",
    "version": 3
   },
   "file_extension": ".py",
   "mimetype": "text/x-python",
   "name": "python",
   "nbconvert_exporter": "python",
   "pygments_lexer": "ipython3",
   "version": "3.10.16"
  }
 },
 "nbformat": 4,
 "nbformat_minor": 5
}
